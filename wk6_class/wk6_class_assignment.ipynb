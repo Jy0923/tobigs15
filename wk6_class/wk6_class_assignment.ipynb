{
 "cells": [
  {
   "cell_type": "code",
   "execution_count": 1,
   "metadata": {},
   "outputs": [],
   "source": [
    "class Monomial:\n",
    "    # 단항식을 표현하는 클래스입니다.\n",
    "    \n",
    "    def __init__(self, coef, exp):\n",
    "        # 파라미터는 coefficient와 exponential입니다.\n",
    "        self.coef = coef\n",
    "        self.exp = exp\n",
    "        \n",
    "        \n",
    "    def evaluate(self, x):\n",
    "        # 단항식에 숫자를 넣어 계산합니다.\n",
    "        return self.coef * x ** self.exp\n",
    "    \n",
    "    \n",
    "    def __add__(self, other):\n",
    "        # 단항식 간 덧셈입니다. 단항식 간 exp가 다르면 에러를 출력합니다.\n",
    "        try:\n",
    "            if self.exp != other.exp:\n",
    "                raise Exceptoin\n",
    "            else:\n",
    "                if self.coef + other.coef == 0:\n",
    "                    return Monomial(None, None)\n",
    "                else:\n",
    "                    return Monomial(self.coef + other.coef, self.exp)\n",
    "        except:\n",
    "            print(\"Tow monomials have different exp. \\nCalculate monomials with the same exp.\")\n",
    "        \n",
    "        \n",
    "    def __sub__(self, other):\n",
    "        # 단항식 간 뺄셈입니다. 단항식 간 exp가 다르면 에러를 출력합니다.\n",
    "        try:\n",
    "            if self.exp != other.exp:\n",
    "                raise Exception\n",
    "            else:\n",
    "                if self.coef - other.coef == 0:\n",
    "                    return Monomial(None, None)\n",
    "                else:\n",
    "                    return Monomial(self.coef - other.coef, self.exp)\n",
    "        except:\n",
    "            print(\"Tow monomials have different exp. \\nCalculate monomials with the same exp.\")\n",
    "    \n",
    "    def __repr__(self):\n",
    "        if self.coef == None and self.exp == None:\n",
    "            return (\"No term exists\")\n",
    "        else:\n",
    "            return str(self.coef) + 'x' + '^' + str(self.exp)"
   ]
  },
  {
   "cell_type": "code",
   "execution_count": 2,
   "metadata": {},
   "outputs": [],
   "source": [
    "a = Monomial(3, 3)\n",
    "b = Monomial(3, 5)\n",
    "c = Monomial(-3, 3)\n",
    "d = Monomial(2, 3)"
   ]
  },
  {
   "cell_type": "code",
   "execution_count": 3,
   "metadata": {},
   "outputs": [
    {
     "name": "stdout",
     "output_type": "stream",
     "text": [
      "Tow monomials have different exp. \n",
      "Calculate monomials with the same exp.\n"
     ]
    }
   ],
   "source": [
    "a + b"
   ]
  },
  {
   "cell_type": "code",
   "execution_count": 4,
   "metadata": {},
   "outputs": [
    {
     "data": {
      "text/plain": [
       "No term exists"
      ]
     },
     "execution_count": 4,
     "metadata": {},
     "output_type": "execute_result"
    }
   ],
   "source": [
    "a + c"
   ]
  },
  {
   "cell_type": "code",
   "execution_count": 5,
   "metadata": {},
   "outputs": [
    {
     "data": {
      "text/plain": [
       "5x^3"
      ]
     },
     "execution_count": 5,
     "metadata": {},
     "output_type": "execute_result"
    }
   ],
   "source": [
    "a + d"
   ]
  },
  {
   "cell_type": "code",
   "execution_count": 6,
   "metadata": {},
   "outputs": [],
   "source": [
    "class Polynomial(Monomial):\n",
    "    # 다항식을 표현하는 클래스입니다.\n",
    "    \n",
    "    def __init__(self, termlist):\n",
    "        # 파라미터는 단항식으로 이루어진 리스트입니다.\n",
    "        # terms는 항의 개수입니다.\n",
    "        self.termlist = termlist\n",
    "        self.terms = len(self.termlist)\n",
    "        self.termlist = sorted(self.termlist, key = lambda x : x.exp, reverse = True)\n",
    "        \n",
    "    def newTerm(self, coef, exp):\n",
    "        # 다항식에 새로운 항을 추가할 때 사용하는 메소드입니다.\n",
    "        self.termlist.append(Monomial(coef, exp))\n",
    "        self.terms += 1\n",
    "        self.termlist = sorted(self.termlist, key = lambda x : x.exp, reverse = True)\n",
    "        \n",
    "    def evaluate(self, x):\n",
    "        # 다항식에 수를 넣어 계산합니다.\n",
    "        s = 0\n",
    "        for term in self.termlist:\n",
    "            s += term.evaluate(x)\n",
    "        return s\n",
    "        \n",
    "    def __add__(self, other):\n",
    "        # 다항식 간 덧셈입니다. 단항식 클래스와는 다르게 exp가 다른 항이 있어도 상관 없습니다.\n",
    "        result = Polynomial([])\n",
    "        \n",
    "        self.termlist = sorted(self.termlist, key = lambda x : x.exp, reverse = True)\n",
    "        other.termlist = sorted(other.termlist, key = lambda x : x.exp, reverse = True)\n",
    "        \n",
    "        aPos = 0\n",
    "        bPos = 0\n",
    "        \n",
    "        while (aPos < self.terms and bPos < other.terms):\n",
    "            \n",
    "            if (self.termlist[aPos].exp == other.termlist[bPos].exp):\n",
    "                coef = self.termlist[aPos].coef + other.termlist[bPos].coef\n",
    "                \n",
    "                if (coef != 0):\n",
    "                    result.newTerm(coef, self.termlist[aPos].exp)\n",
    "                \n",
    "                aPos += 1\n",
    "                bPos += 1\n",
    "            \n",
    "            elif (self.termlist[aPos].exp < other.termlist[bPos].exp):\n",
    "                result.newTerm(other.termlist[bPos].coef, other.termlist[bPos].exp)\n",
    "                bPos += 1\n",
    "            \n",
    "            else:\n",
    "                result.newTerm(self.termlist[aPos].coef, self.termlist[aPos].exp)\n",
    "                aPos += 1\n",
    "        \n",
    "        for i in range(aPos, self.terms):\n",
    "            result.newTerm(self.termlist[aPos].coef, self.termlist[aPos].exp)\n",
    "            \n",
    "        for i in range(bPos, other.terms):\n",
    "            result.newTerm(other.termlist[bPos].coef, other.termlist[bPos].exp)\n",
    "            \n",
    "        return result\n",
    "    \n",
    "    def __sub__(self, other):\n",
    "        # 다항식 간 뺄셈입니다. 단항식 클래스와는 다르게 exp가 다른 항이 있어도 상관 없습니다.\n",
    "        for i in range(len(other.termlist)):\n",
    "            other.termlist[i].coef = -other.termlist[i].coef\n",
    "        return self.__add__(other)\n",
    "        \n",
    "    def __repr__(self):\n",
    "        string = str(self.termlist[0])\n",
    "        for term in self.termlist[1:]:\n",
    "            if term.coef < 0:\n",
    "                string += \" \" + str(term)[0] + \" \" + str(term)[1:]\n",
    "            else:\n",
    "                string += \" + \" + str(term)\n",
    "        return string"
   ]
  },
  {
   "cell_type": "code",
   "execution_count": 7,
   "metadata": {},
   "outputs": [
    {
     "name": "stdout",
     "output_type": "stream",
     "text": [
      "4x^5 + 1x^3 + 2x^2\n"
     ]
    }
   ],
   "source": [
    "a = Polynomial([Monomial(4, 5), Monomial(1, 3), Monomial(2, 2)])\n",
    "print(a)"
   ]
  },
  {
   "cell_type": "code",
   "execution_count": 8,
   "metadata": {},
   "outputs": [
    {
     "name": "stdout",
     "output_type": "stream",
     "text": [
      "2x^3 + 4x^1\n"
     ]
    }
   ],
   "source": [
    "b = Polynomial([Monomial(2, 3), Monomial(4, 1)])\n",
    "print(b)"
   ]
  },
  {
   "cell_type": "code",
   "execution_count": 9,
   "metadata": {},
   "outputs": [
    {
     "name": "stdout",
     "output_type": "stream",
     "text": [
      "-2x^5 + 2x^3 + 4x^1\n"
     ]
    }
   ],
   "source": [
    "b.newTerm(-2, 5)\n",
    "print(b)"
   ]
  },
  {
   "cell_type": "code",
   "execution_count": 10,
   "metadata": {},
   "outputs": [
    {
     "name": "stdout",
     "output_type": "stream",
     "text": [
      "2x^5 + 3x^3 + 2x^2 + 4x^1\n"
     ]
    }
   ],
   "source": [
    "c = a + b\n",
    "print(c)"
   ]
  },
  {
   "cell_type": "code",
   "execution_count": 11,
   "metadata": {},
   "outputs": [
    {
     "name": "stdout",
     "output_type": "stream",
     "text": [
      "6x^5 - 1x^3 + 2x^2 - 4x^1\n"
     ]
    }
   ],
   "source": [
    "d = a - b\n",
    "print(d)"
   ]
  },
  {
   "cell_type": "code",
   "execution_count": 12,
   "metadata": {},
   "outputs": [
    {
     "data": {
      "text/plain": [
       "184"
      ]
     },
     "execution_count": 12,
     "metadata": {},
     "output_type": "execute_result"
    }
   ],
   "source": [
    "d.evaluate(2)"
   ]
  }
 ],
 "metadata": {
  "kernelspec": {
   "display_name": "Python 3",
   "language": "python",
   "name": "python3"
  },
  "language_info": {
   "codemirror_mode": {
    "name": "ipython",
    "version": 3
   },
   "file_extension": ".py",
   "mimetype": "text/x-python",
   "name": "python",
   "nbconvert_exporter": "python",
   "pygments_lexer": "ipython3",
   "version": "3.8.5"
  }
 },
 "nbformat": 4,
 "nbformat_minor": 4
}
