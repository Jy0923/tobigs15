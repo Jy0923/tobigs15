{
 "cells": [
  {
   "cell_type": "markdown",
   "metadata": {},
   "source": [
    "# Assignment3"
   ]
  },
  {
   "cell_type": "markdown",
   "metadata": {},
   "source": [
    "1. sklearn 패키지를 사용해 로지스틱 회귀모형으로 데이터를 분석해 주세요 \n",
    "2. 성능지표를 계산하고 이에 대해 해석해 주세요 \n",
    "   - sklearn : mean accuracy, f1 score 등 다양한 성능지표 계산 \n",
    "   - confusion matrix : tp, fp, fn, tn 값을 통해 성능지표 계산  \n",
    "3. 어떤 성능지표를 기준으로 성능을 개선을 시도했고, 그러한 선택의 이유를 적어주세요.\n",
    "4. **해석을 상세하게 달아주세요 !**"
   ]
  },
  {
   "cell_type": "markdown",
   "metadata": {},
   "source": [
    "## Data "
   ]
  },
  {
   "cell_type": "markdown",
   "metadata": {},
   "source": [
    "출처 : https://www.kaggle.com/mlg-ulb/creditcardfraud\n",
    "\n",
    "\n",
    "* V1 ~ V28 : 비식별화 된 개인정보 \n",
    "* **Class** : Target 변수  \n",
    "  - 1 : fraudulent transactions (사기)\n",
    "  - 0 : otherwise "
   ]
  },
  {
   "cell_type": "code",
   "execution_count": 1,
   "metadata": {},
   "outputs": [],
   "source": [
    "import pandas as pd\n",
    "import numpy as np\n",
    "import matplotlib.pyplot as plt\n",
    "import seaborn as sns\n",
    "from sklearn.linear_model import LogisticRegression\n",
    "from sklearn.model_selection import train_test_split\n",
    "from sklearn.preprocessing import StandardScaler\n",
    "from sklearn.metrics import *"
   ]
  },
  {
   "cell_type": "code",
   "execution_count": 2,
   "metadata": {},
   "outputs": [],
   "source": [
    "credit = pd.read_csv(\"assignment3_creditcard.csv\")"
   ]
  },
  {
   "cell_type": "code",
   "execution_count": 3,
   "metadata": {
    "scrolled": true
   },
   "outputs": [
    {
     "data": {
      "text/html": [
       "<div>\n",
       "<style scoped>\n",
       "    .dataframe tbody tr th:only-of-type {\n",
       "        vertical-align: middle;\n",
       "    }\n",
       "\n",
       "    .dataframe tbody tr th {\n",
       "        vertical-align: top;\n",
       "    }\n",
       "\n",
       "    .dataframe thead th {\n",
       "        text-align: right;\n",
       "    }\n",
       "</style>\n",
       "<table border=\"1\" class=\"dataframe\">\n",
       "  <thead>\n",
       "    <tr style=\"text-align: right;\">\n",
       "      <th></th>\n",
       "      <th>V1</th>\n",
       "      <th>V2</th>\n",
       "      <th>V3</th>\n",
       "      <th>V4</th>\n",
       "      <th>V5</th>\n",
       "      <th>V6</th>\n",
       "      <th>V7</th>\n",
       "      <th>V8</th>\n",
       "      <th>V9</th>\n",
       "      <th>V10</th>\n",
       "      <th>...</th>\n",
       "      <th>V20</th>\n",
       "      <th>V21</th>\n",
       "      <th>V22</th>\n",
       "      <th>V23</th>\n",
       "      <th>V24</th>\n",
       "      <th>V25</th>\n",
       "      <th>V26</th>\n",
       "      <th>V27</th>\n",
       "      <th>V28</th>\n",
       "      <th>Class</th>\n",
       "    </tr>\n",
       "  </thead>\n",
       "  <tbody>\n",
       "    <tr>\n",
       "      <th>0</th>\n",
       "      <td>-1.848212</td>\n",
       "      <td>2.384900</td>\n",
       "      <td>0.379573</td>\n",
       "      <td>1.048381</td>\n",
       "      <td>-0.845070</td>\n",
       "      <td>2.537837</td>\n",
       "      <td>-4.542983</td>\n",
       "      <td>-10.201458</td>\n",
       "      <td>-1.504967</td>\n",
       "      <td>-2.234167</td>\n",
       "      <td>...</td>\n",
       "      <td>2.585817</td>\n",
       "      <td>-5.291690</td>\n",
       "      <td>0.859364</td>\n",
       "      <td>0.423231</td>\n",
       "      <td>-0.506985</td>\n",
       "      <td>1.020052</td>\n",
       "      <td>-0.627751</td>\n",
       "      <td>-0.017753</td>\n",
       "      <td>0.280982</td>\n",
       "      <td>0</td>\n",
       "    </tr>\n",
       "    <tr>\n",
       "      <th>1</th>\n",
       "      <td>2.071805</td>\n",
       "      <td>-0.477943</td>\n",
       "      <td>-1.444444</td>\n",
       "      <td>-0.548657</td>\n",
       "      <td>0.010036</td>\n",
       "      <td>-0.582242</td>\n",
       "      <td>-0.042878</td>\n",
       "      <td>-0.247160</td>\n",
       "      <td>1.171923</td>\n",
       "      <td>-0.342382</td>\n",
       "      <td>...</td>\n",
       "      <td>-0.077306</td>\n",
       "      <td>0.042858</td>\n",
       "      <td>0.390125</td>\n",
       "      <td>0.041569</td>\n",
       "      <td>0.598427</td>\n",
       "      <td>0.098803</td>\n",
       "      <td>0.979686</td>\n",
       "      <td>-0.093244</td>\n",
       "      <td>-0.065615</td>\n",
       "      <td>0</td>\n",
       "    </tr>\n",
       "    <tr>\n",
       "      <th>2</th>\n",
       "      <td>-2.985294</td>\n",
       "      <td>-2.747472</td>\n",
       "      <td>1.194068</td>\n",
       "      <td>-0.003036</td>\n",
       "      <td>-1.151041</td>\n",
       "      <td>-0.263559</td>\n",
       "      <td>0.553500</td>\n",
       "      <td>0.635600</td>\n",
       "      <td>0.438545</td>\n",
       "      <td>-1.806488</td>\n",
       "      <td>...</td>\n",
       "      <td>1.345776</td>\n",
       "      <td>0.373760</td>\n",
       "      <td>-0.385777</td>\n",
       "      <td>1.197596</td>\n",
       "      <td>0.407229</td>\n",
       "      <td>0.008013</td>\n",
       "      <td>0.762362</td>\n",
       "      <td>-0.299024</td>\n",
       "      <td>-0.303929</td>\n",
       "      <td>0</td>\n",
       "    </tr>\n",
       "    <tr>\n",
       "      <th>3</th>\n",
       "      <td>-1.479452</td>\n",
       "      <td>1.542874</td>\n",
       "      <td>0.290895</td>\n",
       "      <td>0.838142</td>\n",
       "      <td>-0.529290</td>\n",
       "      <td>-0.717661</td>\n",
       "      <td>0.484516</td>\n",
       "      <td>0.545092</td>\n",
       "      <td>-0.780767</td>\n",
       "      <td>0.324804</td>\n",
       "      <td>...</td>\n",
       "      <td>0.038397</td>\n",
       "      <td>0.116771</td>\n",
       "      <td>0.405560</td>\n",
       "      <td>-0.116453</td>\n",
       "      <td>0.541275</td>\n",
       "      <td>-0.216665</td>\n",
       "      <td>-0.415578</td>\n",
       "      <td>0.027126</td>\n",
       "      <td>-0.150347</td>\n",
       "      <td>0</td>\n",
       "    </tr>\n",
       "    <tr>\n",
       "      <th>4</th>\n",
       "      <td>-0.281976</td>\n",
       "      <td>-0.309699</td>\n",
       "      <td>-2.162299</td>\n",
       "      <td>-0.851514</td>\n",
       "      <td>0.106167</td>\n",
       "      <td>-1.483888</td>\n",
       "      <td>1.930994</td>\n",
       "      <td>-0.843049</td>\n",
       "      <td>-1.249272</td>\n",
       "      <td>1.079608</td>\n",
       "      <td>...</td>\n",
       "      <td>-0.875516</td>\n",
       "      <td>-0.004199</td>\n",
       "      <td>1.015108</td>\n",
       "      <td>-0.026748</td>\n",
       "      <td>0.077115</td>\n",
       "      <td>-1.468822</td>\n",
       "      <td>0.751700</td>\n",
       "      <td>0.496732</td>\n",
       "      <td>0.331001</td>\n",
       "      <td>0</td>\n",
       "    </tr>\n",
       "  </tbody>\n",
       "</table>\n",
       "<p>5 rows × 29 columns</p>\n",
       "</div>"
      ],
      "text/plain": [
       "         V1        V2        V3        V4        V5        V6        V7  \\\n",
       "0 -1.848212  2.384900  0.379573  1.048381 -0.845070  2.537837 -4.542983   \n",
       "1  2.071805 -0.477943 -1.444444 -0.548657  0.010036 -0.582242 -0.042878   \n",
       "2 -2.985294 -2.747472  1.194068 -0.003036 -1.151041 -0.263559  0.553500   \n",
       "3 -1.479452  1.542874  0.290895  0.838142 -0.529290 -0.717661  0.484516   \n",
       "4 -0.281976 -0.309699 -2.162299 -0.851514  0.106167 -1.483888  1.930994   \n",
       "\n",
       "          V8        V9       V10  ...       V20       V21       V22       V23  \\\n",
       "0 -10.201458 -1.504967 -2.234167  ...  2.585817 -5.291690  0.859364  0.423231   \n",
       "1  -0.247160  1.171923 -0.342382  ... -0.077306  0.042858  0.390125  0.041569   \n",
       "2   0.635600  0.438545 -1.806488  ...  1.345776  0.373760 -0.385777  1.197596   \n",
       "3   0.545092 -0.780767  0.324804  ...  0.038397  0.116771  0.405560 -0.116453   \n",
       "4  -0.843049 -1.249272  1.079608  ... -0.875516 -0.004199  1.015108 -0.026748   \n",
       "\n",
       "        V24       V25       V26       V27       V28  Class  \n",
       "0 -0.506985  1.020052 -0.627751 -0.017753  0.280982      0  \n",
       "1  0.598427  0.098803  0.979686 -0.093244 -0.065615      0  \n",
       "2  0.407229  0.008013  0.762362 -0.299024 -0.303929      0  \n",
       "3  0.541275 -0.216665 -0.415578  0.027126 -0.150347      0  \n",
       "4  0.077115 -1.468822  0.751700  0.496732  0.331001      0  \n",
       "\n",
       "[5 rows x 29 columns]"
      ]
     },
     "execution_count": 3,
     "metadata": {},
     "output_type": "execute_result"
    }
   ],
   "source": [
    "credit.head()"
   ]
  },
  {
   "cell_type": "code",
   "execution_count": 4,
   "metadata": {},
   "outputs": [
    {
     "name": "stdout",
     "output_type": "stream",
     "text": [
      "<class 'pandas.core.frame.DataFrame'>\n",
      "RangeIndex: 28678 entries, 0 to 28677\n",
      "Data columns (total 29 columns):\n",
      " #   Column  Non-Null Count  Dtype  \n",
      "---  ------  --------------  -----  \n",
      " 0   V1      28678 non-null  float64\n",
      " 1   V2      28678 non-null  float64\n",
      " 2   V3      28678 non-null  float64\n",
      " 3   V4      28678 non-null  float64\n",
      " 4   V5      28678 non-null  float64\n",
      " 5   V6      28678 non-null  float64\n",
      " 6   V7      28678 non-null  float64\n",
      " 7   V8      28678 non-null  float64\n",
      " 8   V9      28678 non-null  float64\n",
      " 9   V10     28678 non-null  float64\n",
      " 10  V11     28678 non-null  float64\n",
      " 11  V12     28678 non-null  float64\n",
      " 12  V13     28678 non-null  float64\n",
      " 13  V14     28678 non-null  float64\n",
      " 14  V15     28678 non-null  float64\n",
      " 15  V16     28678 non-null  float64\n",
      " 16  V17     28678 non-null  float64\n",
      " 17  V18     28678 non-null  float64\n",
      " 18  V19     28678 non-null  float64\n",
      " 19  V20     28678 non-null  float64\n",
      " 20  V21     28678 non-null  float64\n",
      " 21  V22     28678 non-null  float64\n",
      " 22  V23     28678 non-null  float64\n",
      " 23  V24     28678 non-null  float64\n",
      " 24  V25     28678 non-null  float64\n",
      " 25  V26     28678 non-null  float64\n",
      " 26  V27     28678 non-null  float64\n",
      " 27  V28     28678 non-null  float64\n",
      " 28  Class   28678 non-null  int64  \n",
      "dtypes: float64(28), int64(1)\n",
      "memory usage: 6.3 MB\n"
     ]
    }
   ],
   "source": [
    "credit.info()"
   ]
  },
  {
   "cell_type": "markdown",
   "metadata": {},
   "source": [
    "## Logistic Regression "
   ]
  },
  {
   "cell_type": "markdown",
   "metadata": {},
   "source": [
    "## preprocessing"
   ]
  },
  {
   "cell_type": "code",
   "execution_count": 5,
   "metadata": {},
   "outputs": [],
   "source": [
    "X = credit.iloc[:, :-1]\n",
    "y = credit['Class']"
   ]
  },
  {
   "cell_type": "code",
   "execution_count": 6,
   "metadata": {},
   "outputs": [
    {
     "data": {
      "text/html": [
       "<div>\n",
       "<style scoped>\n",
       "    .dataframe tbody tr th:only-of-type {\n",
       "        vertical-align: middle;\n",
       "    }\n",
       "\n",
       "    .dataframe tbody tr th {\n",
       "        vertical-align: top;\n",
       "    }\n",
       "\n",
       "    .dataframe thead th {\n",
       "        text-align: right;\n",
       "    }\n",
       "</style>\n",
       "<table border=\"1\" class=\"dataframe\">\n",
       "  <thead>\n",
       "    <tr style=\"text-align: right;\">\n",
       "      <th></th>\n",
       "      <th>V1</th>\n",
       "      <th>V2</th>\n",
       "      <th>V3</th>\n",
       "      <th>V4</th>\n",
       "      <th>V5</th>\n",
       "      <th>V6</th>\n",
       "      <th>V7</th>\n",
       "      <th>V8</th>\n",
       "      <th>V9</th>\n",
       "      <th>V10</th>\n",
       "      <th>...</th>\n",
       "      <th>V19</th>\n",
       "      <th>V20</th>\n",
       "      <th>V21</th>\n",
       "      <th>V22</th>\n",
       "      <th>V23</th>\n",
       "      <th>V24</th>\n",
       "      <th>V25</th>\n",
       "      <th>V26</th>\n",
       "      <th>V27</th>\n",
       "      <th>V28</th>\n",
       "    </tr>\n",
       "  </thead>\n",
       "  <tbody>\n",
       "    <tr>\n",
       "      <th>count</th>\n",
       "      <td>28678.000000</td>\n",
       "      <td>28678.000000</td>\n",
       "      <td>28678.000000</td>\n",
       "      <td>28678.000000</td>\n",
       "      <td>28678.000000</td>\n",
       "      <td>28678.000000</td>\n",
       "      <td>28678.000000</td>\n",
       "      <td>28678.000000</td>\n",
       "      <td>28678.000000</td>\n",
       "      <td>28678.000000</td>\n",
       "      <td>...</td>\n",
       "      <td>28678.000000</td>\n",
       "      <td>28678.000000</td>\n",
       "      <td>28678.000000</td>\n",
       "      <td>28678.000000</td>\n",
       "      <td>28678.000000</td>\n",
       "      <td>28678.000000</td>\n",
       "      <td>28678.000000</td>\n",
       "      <td>28678.000000</td>\n",
       "      <td>28678.000000</td>\n",
       "      <td>28678.000000</td>\n",
       "    </tr>\n",
       "    <tr>\n",
       "      <th>mean</th>\n",
       "      <td>-0.015438</td>\n",
       "      <td>0.053653</td>\n",
       "      <td>-0.046031</td>\n",
       "      <td>0.037348</td>\n",
       "      <td>-0.033724</td>\n",
       "      <td>-0.003299</td>\n",
       "      <td>-0.051054</td>\n",
       "      <td>0.006064</td>\n",
       "      <td>-0.018530</td>\n",
       "      <td>-0.041149</td>\n",
       "      <td>...</td>\n",
       "      <td>0.007183</td>\n",
       "      <td>0.002633</td>\n",
       "      <td>0.010289</td>\n",
       "      <td>-0.000656</td>\n",
       "      <td>-0.004800</td>\n",
       "      <td>-0.000897</td>\n",
       "      <td>-0.001989</td>\n",
       "      <td>-0.000765</td>\n",
       "      <td>0.000948</td>\n",
       "      <td>0.001535</td>\n",
       "    </tr>\n",
       "    <tr>\n",
       "      <th>std</th>\n",
       "      <td>2.031529</td>\n",
       "      <td>1.616186</td>\n",
       "      <td>1.758169</td>\n",
       "      <td>1.482109</td>\n",
       "      <td>1.486998</td>\n",
       "      <td>1.339259</td>\n",
       "      <td>1.454827</td>\n",
       "      <td>1.364342</td>\n",
       "      <td>1.134065</td>\n",
       "      <td>1.252593</td>\n",
       "      <td>...</td>\n",
       "      <td>0.827420</td>\n",
       "      <td>0.720307</td>\n",
       "      <td>0.847152</td>\n",
       "      <td>0.739469</td>\n",
       "      <td>0.593663</td>\n",
       "      <td>0.603349</td>\n",
       "      <td>0.517968</td>\n",
       "      <td>0.483852</td>\n",
       "      <td>0.397075</td>\n",
       "      <td>0.296736</td>\n",
       "    </tr>\n",
       "    <tr>\n",
       "      <th>min</th>\n",
       "      <td>-30.552380</td>\n",
       "      <td>-42.172688</td>\n",
       "      <td>-31.103685</td>\n",
       "      <td>-5.560118</td>\n",
       "      <td>-42.147898</td>\n",
       "      <td>-21.929312</td>\n",
       "      <td>-41.506796</td>\n",
       "      <td>-39.267378</td>\n",
       "      <td>-13.434066</td>\n",
       "      <td>-24.403185</td>\n",
       "      <td>...</td>\n",
       "      <td>-4.619034</td>\n",
       "      <td>-21.387122</td>\n",
       "      <td>-21.453736</td>\n",
       "      <td>-8.887017</td>\n",
       "      <td>-36.666000</td>\n",
       "      <td>-2.718024</td>\n",
       "      <td>-6.712624</td>\n",
       "      <td>-2.241620</td>\n",
       "      <td>-7.418878</td>\n",
       "      <td>-9.617915</td>\n",
       "    </tr>\n",
       "    <tr>\n",
       "      <th>25%</th>\n",
       "      <td>-0.916927</td>\n",
       "      <td>-0.575381</td>\n",
       "      <td>-0.899872</td>\n",
       "      <td>-0.843321</td>\n",
       "      <td>-0.714901</td>\n",
       "      <td>-0.763757</td>\n",
       "      <td>-0.568146</td>\n",
       "      <td>-0.206103</td>\n",
       "      <td>-0.661909</td>\n",
       "      <td>-0.543450</td>\n",
       "      <td>...</td>\n",
       "      <td>-0.459073</td>\n",
       "      <td>-0.209678</td>\n",
       "      <td>-0.225520</td>\n",
       "      <td>-0.539244</td>\n",
       "      <td>-0.160583</td>\n",
       "      <td>-0.356047</td>\n",
       "      <td>-0.318619</td>\n",
       "      <td>-0.327343</td>\n",
       "      <td>-0.070558</td>\n",
       "      <td>-0.052189</td>\n",
       "    </tr>\n",
       "    <tr>\n",
       "      <th>50%</th>\n",
       "      <td>0.020050</td>\n",
       "      <td>0.075358</td>\n",
       "      <td>0.180610</td>\n",
       "      <td>-0.008844</td>\n",
       "      <td>-0.060040</td>\n",
       "      <td>-0.271363</td>\n",
       "      <td>0.036107</td>\n",
       "      <td>0.022463</td>\n",
       "      <td>-0.055095</td>\n",
       "      <td>-0.097390</td>\n",
       "      <td>...</td>\n",
       "      <td>0.002111</td>\n",
       "      <td>-0.062792</td>\n",
       "      <td>-0.028778</td>\n",
       "      <td>0.007302</td>\n",
       "      <td>-0.011199</td>\n",
       "      <td>0.040006</td>\n",
       "      <td>0.019770</td>\n",
       "      <td>-0.056260</td>\n",
       "      <td>0.002049</td>\n",
       "      <td>0.011075</td>\n",
       "    </tr>\n",
       "    <tr>\n",
       "      <th>75%</th>\n",
       "      <td>1.317461</td>\n",
       "      <td>0.806957</td>\n",
       "      <td>1.029928</td>\n",
       "      <td>0.771958</td>\n",
       "      <td>0.613328</td>\n",
       "      <td>0.397269</td>\n",
       "      <td>0.559409</td>\n",
       "      <td>0.329606</td>\n",
       "      <td>0.605704</td>\n",
       "      <td>0.460681</td>\n",
       "      <td>...</td>\n",
       "      <td>0.467781</td>\n",
       "      <td>0.131199</td>\n",
       "      <td>0.184312</td>\n",
       "      <td>0.526358</td>\n",
       "      <td>0.146835</td>\n",
       "      <td>0.437146</td>\n",
       "      <td>0.352717</td>\n",
       "      <td>0.240713</td>\n",
       "      <td>0.091637</td>\n",
       "      <td>0.078911</td>\n",
       "    </tr>\n",
       "    <tr>\n",
       "      <th>max</th>\n",
       "      <td>2.399484</td>\n",
       "      <td>21.467203</td>\n",
       "      <td>4.069865</td>\n",
       "      <td>11.927512</td>\n",
       "      <td>32.911462</td>\n",
       "      <td>22.529298</td>\n",
       "      <td>36.677268</td>\n",
       "      <td>20.007208</td>\n",
       "      <td>8.113152</td>\n",
       "      <td>15.236028</td>\n",
       "      <td>...</td>\n",
       "      <td>5.228342</td>\n",
       "      <td>26.237391</td>\n",
       "      <td>27.202839</td>\n",
       "      <td>8.361985</td>\n",
       "      <td>9.637187</td>\n",
       "      <td>3.948061</td>\n",
       "      <td>2.510401</td>\n",
       "      <td>3.122747</td>\n",
       "      <td>11.135740</td>\n",
       "      <td>14.929133</td>\n",
       "    </tr>\n",
       "  </tbody>\n",
       "</table>\n",
       "<p>8 rows × 28 columns</p>\n",
       "</div>"
      ],
      "text/plain": [
       "                 V1            V2            V3            V4            V5  \\\n",
       "count  28678.000000  28678.000000  28678.000000  28678.000000  28678.000000   \n",
       "mean      -0.015438      0.053653     -0.046031      0.037348     -0.033724   \n",
       "std        2.031529      1.616186      1.758169      1.482109      1.486998   \n",
       "min      -30.552380    -42.172688    -31.103685     -5.560118    -42.147898   \n",
       "25%       -0.916927     -0.575381     -0.899872     -0.843321     -0.714901   \n",
       "50%        0.020050      0.075358      0.180610     -0.008844     -0.060040   \n",
       "75%        1.317461      0.806957      1.029928      0.771958      0.613328   \n",
       "max        2.399484     21.467203      4.069865     11.927512     32.911462   \n",
       "\n",
       "                 V6            V7            V8            V9           V10  \\\n",
       "count  28678.000000  28678.000000  28678.000000  28678.000000  28678.000000   \n",
       "mean      -0.003299     -0.051054      0.006064     -0.018530     -0.041149   \n",
       "std        1.339259      1.454827      1.364342      1.134065      1.252593   \n",
       "min      -21.929312    -41.506796    -39.267378    -13.434066    -24.403185   \n",
       "25%       -0.763757     -0.568146     -0.206103     -0.661909     -0.543450   \n",
       "50%       -0.271363      0.036107      0.022463     -0.055095     -0.097390   \n",
       "75%        0.397269      0.559409      0.329606      0.605704      0.460681   \n",
       "max       22.529298     36.677268     20.007208      8.113152     15.236028   \n",
       "\n",
       "       ...           V19           V20           V21           V22  \\\n",
       "count  ...  28678.000000  28678.000000  28678.000000  28678.000000   \n",
       "mean   ...      0.007183      0.002633      0.010289     -0.000656   \n",
       "std    ...      0.827420      0.720307      0.847152      0.739469   \n",
       "min    ...     -4.619034    -21.387122    -21.453736     -8.887017   \n",
       "25%    ...     -0.459073     -0.209678     -0.225520     -0.539244   \n",
       "50%    ...      0.002111     -0.062792     -0.028778      0.007302   \n",
       "75%    ...      0.467781      0.131199      0.184312      0.526358   \n",
       "max    ...      5.228342     26.237391     27.202839      8.361985   \n",
       "\n",
       "                V23           V24           V25           V26           V27  \\\n",
       "count  28678.000000  28678.000000  28678.000000  28678.000000  28678.000000   \n",
       "mean      -0.004800     -0.000897     -0.001989     -0.000765      0.000948   \n",
       "std        0.593663      0.603349      0.517968      0.483852      0.397075   \n",
       "min      -36.666000     -2.718024     -6.712624     -2.241620     -7.418878   \n",
       "25%       -0.160583     -0.356047     -0.318619     -0.327343     -0.070558   \n",
       "50%       -0.011199      0.040006      0.019770     -0.056260      0.002049   \n",
       "75%        0.146835      0.437146      0.352717      0.240713      0.091637   \n",
       "max        9.637187      3.948061      2.510401      3.122747     11.135740   \n",
       "\n",
       "                V28  \n",
       "count  28678.000000  \n",
       "mean       0.001535  \n",
       "std        0.296736  \n",
       "min       -9.617915  \n",
       "25%       -0.052189  \n",
       "50%        0.011075  \n",
       "75%        0.078911  \n",
       "max       14.929133  \n",
       "\n",
       "[8 rows x 28 columns]"
      ]
     },
     "execution_count": 6,
     "metadata": {},
     "output_type": "execute_result"
    }
   ],
   "source": [
    "X.describe()"
   ]
  },
  {
   "cell_type": "code",
   "execution_count": 7,
   "metadata": {},
   "outputs": [
    {
     "name": "stdout",
     "output_type": "stream",
     "text": [
      "1의 비율 : 0.008578004044912477\n",
      "0    28432\n",
      "1      246\n",
      "Name: Class, dtype: int64\n"
     ]
    }
   ],
   "source": [
    "print('1의 비율 :', y.mean())\n",
    "print(y.value_counts())"
   ]
  },
  {
   "cell_type": "markdown",
   "metadata": {},
   "source": [
    "* 원본 데이터셋에서 독립변수(X)와 종속변수(y)를 분리한다.\n",
    "* X의 통계량들을 확인한 결과 각 변수들은 모두 평균이 0에 가깝지만 표준편차의 크기가 상이하고, min값과 max값을 봤을때 이상치들이 다수 존재함을 알 수 있다.\n",
    "* y는 사기가 1로 되어있는데, 그 비율이 현저히 낮다. 전체 28678중 246만이 1이고 그 비율은 0.0085이다."
   ]
  },
  {
   "cell_type": "markdown",
   "metadata": {},
   "source": [
    "#### 로지스틱 회귀분석에는 종속변수가 이항분포여야 한다는 가정을 제외하면 사실 크게 신경 쓸 기본 가정은 없는 듯 하므로 독립변수들에 간단히 표준화를 진행한 후 로지스틱 회귀분석을 실시한다."
   ]
  },
  {
   "cell_type": "code",
   "execution_count": 8,
   "metadata": {},
   "outputs": [],
   "source": [
    "scaler = StandardScaler()\n",
    "X = pd.DataFrame(scaler.fit_transform(X), columns = X.columns)"
   ]
  },
  {
   "cell_type": "code",
   "execution_count": 9,
   "metadata": {},
   "outputs": [
    {
     "data": {
      "text/html": [
       "<div>\n",
       "<style scoped>\n",
       "    .dataframe tbody tr th:only-of-type {\n",
       "        vertical-align: middle;\n",
       "    }\n",
       "\n",
       "    .dataframe tbody tr th {\n",
       "        vertical-align: top;\n",
       "    }\n",
       "\n",
       "    .dataframe thead th {\n",
       "        text-align: right;\n",
       "    }\n",
       "</style>\n",
       "<table border=\"1\" class=\"dataframe\">\n",
       "  <thead>\n",
       "    <tr style=\"text-align: right;\">\n",
       "      <th></th>\n",
       "      <th>V1</th>\n",
       "      <th>V2</th>\n",
       "      <th>V3</th>\n",
       "      <th>V4</th>\n",
       "      <th>V5</th>\n",
       "      <th>V6</th>\n",
       "      <th>V7</th>\n",
       "      <th>V8</th>\n",
       "      <th>V9</th>\n",
       "      <th>V10</th>\n",
       "      <th>...</th>\n",
       "      <th>V19</th>\n",
       "      <th>V20</th>\n",
       "      <th>V21</th>\n",
       "      <th>V22</th>\n",
       "      <th>V23</th>\n",
       "      <th>V24</th>\n",
       "      <th>V25</th>\n",
       "      <th>V26</th>\n",
       "      <th>V27</th>\n",
       "      <th>V28</th>\n",
       "    </tr>\n",
       "  </thead>\n",
       "  <tbody>\n",
       "    <tr>\n",
       "      <th>count</th>\n",
       "      <td>2.867800e+04</td>\n",
       "      <td>2.867800e+04</td>\n",
       "      <td>2.867800e+04</td>\n",
       "      <td>2.867800e+04</td>\n",
       "      <td>2.867800e+04</td>\n",
       "      <td>2.867800e+04</td>\n",
       "      <td>2.867800e+04</td>\n",
       "      <td>2.867800e+04</td>\n",
       "      <td>2.867800e+04</td>\n",
       "      <td>2.867800e+04</td>\n",
       "      <td>...</td>\n",
       "      <td>2.867800e+04</td>\n",
       "      <td>2.867800e+04</td>\n",
       "      <td>2.867800e+04</td>\n",
       "      <td>2.867800e+04</td>\n",
       "      <td>2.867800e+04</td>\n",
       "      <td>2.867800e+04</td>\n",
       "      <td>2.867800e+04</td>\n",
       "      <td>2.867800e+04</td>\n",
       "      <td>2.867800e+04</td>\n",
       "      <td>2.867800e+04</td>\n",
       "    </tr>\n",
       "    <tr>\n",
       "      <th>mean</th>\n",
       "      <td>-5.530597e-17</td>\n",
       "      <td>-2.114526e-17</td>\n",
       "      <td>-1.916701e-17</td>\n",
       "      <td>-6.894857e-18</td>\n",
       "      <td>5.385180e-17</td>\n",
       "      <td>2.996418e-18</td>\n",
       "      <td>-9.581568e-18</td>\n",
       "      <td>3.024243e-18</td>\n",
       "      <td>-3.774557e-18</td>\n",
       "      <td>-9.678351e-20</td>\n",
       "      <td>...</td>\n",
       "      <td>3.994449e-17</td>\n",
       "      <td>-1.666031e-17</td>\n",
       "      <td>-1.367309e-18</td>\n",
       "      <td>-1.758435e-17</td>\n",
       "      <td>1.841790e-17</td>\n",
       "      <td>9.149913e-18</td>\n",
       "      <td>3.071957e-17</td>\n",
       "      <td>1.873729e-18</td>\n",
       "      <td>-8.754069e-18</td>\n",
       "      <td>-6.354805e-18</td>\n",
       "    </tr>\n",
       "    <tr>\n",
       "      <th>std</th>\n",
       "      <td>1.000017e+00</td>\n",
       "      <td>1.000017e+00</td>\n",
       "      <td>1.000017e+00</td>\n",
       "      <td>1.000017e+00</td>\n",
       "      <td>1.000017e+00</td>\n",
       "      <td>1.000017e+00</td>\n",
       "      <td>1.000017e+00</td>\n",
       "      <td>1.000017e+00</td>\n",
       "      <td>1.000017e+00</td>\n",
       "      <td>1.000017e+00</td>\n",
       "      <td>...</td>\n",
       "      <td>1.000017e+00</td>\n",
       "      <td>1.000017e+00</td>\n",
       "      <td>1.000017e+00</td>\n",
       "      <td>1.000017e+00</td>\n",
       "      <td>1.000017e+00</td>\n",
       "      <td>1.000017e+00</td>\n",
       "      <td>1.000017e+00</td>\n",
       "      <td>1.000017e+00</td>\n",
       "      <td>1.000017e+00</td>\n",
       "      <td>1.000017e+00</td>\n",
       "    </tr>\n",
       "    <tr>\n",
       "      <th>min</th>\n",
       "      <td>-1.503177e+01</td>\n",
       "      <td>-2.612761e+01</td>\n",
       "      <td>-1.766508e+01</td>\n",
       "      <td>-3.776757e+00</td>\n",
       "      <td>-2.832210e+01</td>\n",
       "      <td>-1.637204e+01</td>\n",
       "      <td>-2.849580e+01</td>\n",
       "      <td>-2.878613e+01</td>\n",
       "      <td>-1.182981e+01</td>\n",
       "      <td>-1.944962e+01</td>\n",
       "      <td>...</td>\n",
       "      <td>-5.591230e+00</td>\n",
       "      <td>-2.969587e+01</td>\n",
       "      <td>-2.533713e+01</td>\n",
       "      <td>-1.201742e+01</td>\n",
       "      <td>-6.175535e+01</td>\n",
       "      <td>-4.503490e+00</td>\n",
       "      <td>-1.295591e+01</td>\n",
       "      <td>-4.631360e+00</td>\n",
       "      <td>-1.868655e+01</td>\n",
       "      <td>-3.241807e+01</td>\n",
       "    </tr>\n",
       "    <tr>\n",
       "      <th>25%</th>\n",
       "      <td>-4.437564e-01</td>\n",
       "      <td>-3.892156e-01</td>\n",
       "      <td>-4.856507e-01</td>\n",
       "      <td>-5.942105e-01</td>\n",
       "      <td>-4.580970e-01</td>\n",
       "      <td>-5.678302e-01</td>\n",
       "      <td>-3.554381e-01</td>\n",
       "      <td>-1.555117e-01</td>\n",
       "      <td>-5.673308e-01</td>\n",
       "      <td>-4.010154e-01</td>\n",
       "      <td>...</td>\n",
       "      <td>-5.635158e-01</td>\n",
       "      <td>-2.947559e-01</td>\n",
       "      <td>-2.783608e-01</td>\n",
       "      <td>-7.283577e-01</td>\n",
       "      <td>-2.624144e-01</td>\n",
       "      <td>-5.886414e-01</td>\n",
       "      <td>-6.113030e-01</td>\n",
       "      <td>-6.749650e-01</td>\n",
       "      <td>-1.800852e-01</td>\n",
       "      <td>-1.810515e-01</td>\n",
       "    </tr>\n",
       "    <tr>\n",
       "      <th>50%</th>\n",
       "      <td>1.746923e-02</td>\n",
       "      <td>1.342993e-02</td>\n",
       "      <td>1.289095e-01</td>\n",
       "      <td>-3.116696e-02</td>\n",
       "      <td>-1.769798e-02</td>\n",
       "      <td>-2.001620e-01</td>\n",
       "      <td>5.991243e-02</td>\n",
       "      <td>1.201993e-02</td>\n",
       "      <td>-3.224254e-02</td>\n",
       "      <td>-4.490062e-02</td>\n",
       "      <td>...</td>\n",
       "      <td>-6.129726e-03</td>\n",
       "      <td>-9.083206e-02</td>\n",
       "      <td>-4.611644e-02</td>\n",
       "      <td>1.076176e-02</td>\n",
       "      <td>-1.077972e-02</td>\n",
       "      <td>6.779550e-02</td>\n",
       "      <td>4.200870e-02</td>\n",
       "      <td>-1.146949e-01</td>\n",
       "      <td>2.773428e-03</td>\n",
       "      <td>3.215157e-02</td>\n",
       "    </tr>\n",
       "    <tr>\n",
       "      <th>75%</th>\n",
       "      <td>6.561176e-01</td>\n",
       "      <td>4.661079e-01</td>\n",
       "      <td>6.119879e-01</td>\n",
       "      <td>4.956607e-01</td>\n",
       "      <td>4.351471e-01</td>\n",
       "      <td>2.991023e-01</td>\n",
       "      <td>4.196195e-01</td>\n",
       "      <td>2.371456e-01</td>\n",
       "      <td>5.504490e-01</td>\n",
       "      <td>4.006397e-01</td>\n",
       "      <td>...</td>\n",
       "      <td>5.566773e-01</td>\n",
       "      <td>1.784910e-01</td>\n",
       "      <td>2.054238e-01</td>\n",
       "      <td>7.127044e-01</td>\n",
       "      <td>2.554264e-01</td>\n",
       "      <td>7.260327e-01</td>\n",
       "      <td>6.848133e-01</td>\n",
       "      <td>4.990833e-01</td>\n",
       "      <td>2.283979e-01</td>\n",
       "      <td>2.607619e-01</td>\n",
       "    </tr>\n",
       "    <tr>\n",
       "      <th>max</th>\n",
       "      <td>1.188742e+00</td>\n",
       "      <td>1.324966e+01</td>\n",
       "      <td>2.341054e+00</td>\n",
       "      <td>8.022605e+00</td>\n",
       "      <td>2.215588e+01</td>\n",
       "      <td>1.682497e+01</td>\n",
       "      <td>2.524627e+01</td>\n",
       "      <td>1.466017e+01</td>\n",
       "      <td>7.170510e+00</td>\n",
       "      <td>1.219665e+01</td>\n",
       "      <td>...</td>\n",
       "      <td>6.310274e+00</td>\n",
       "      <td>3.642229e+01</td>\n",
       "      <td>3.209935e+01</td>\n",
       "      <td>1.130917e+01</td>\n",
       "      <td>1.624181e+01</td>\n",
       "      <td>6.545184e+00</td>\n",
       "      <td>4.850554e+00</td>\n",
       "      <td>6.455620e+00</td>\n",
       "      <td>2.804256e+01</td>\n",
       "      <td>5.030682e+01</td>\n",
       "    </tr>\n",
       "  </tbody>\n",
       "</table>\n",
       "<p>8 rows × 28 columns</p>\n",
       "</div>"
      ],
      "text/plain": [
       "                 V1            V2            V3            V4            V5  \\\n",
       "count  2.867800e+04  2.867800e+04  2.867800e+04  2.867800e+04  2.867800e+04   \n",
       "mean  -5.530597e-17 -2.114526e-17 -1.916701e-17 -6.894857e-18  5.385180e-17   \n",
       "std    1.000017e+00  1.000017e+00  1.000017e+00  1.000017e+00  1.000017e+00   \n",
       "min   -1.503177e+01 -2.612761e+01 -1.766508e+01 -3.776757e+00 -2.832210e+01   \n",
       "25%   -4.437564e-01 -3.892156e-01 -4.856507e-01 -5.942105e-01 -4.580970e-01   \n",
       "50%    1.746923e-02  1.342993e-02  1.289095e-01 -3.116696e-02 -1.769798e-02   \n",
       "75%    6.561176e-01  4.661079e-01  6.119879e-01  4.956607e-01  4.351471e-01   \n",
       "max    1.188742e+00  1.324966e+01  2.341054e+00  8.022605e+00  2.215588e+01   \n",
       "\n",
       "                 V6            V7            V8            V9           V10  \\\n",
       "count  2.867800e+04  2.867800e+04  2.867800e+04  2.867800e+04  2.867800e+04   \n",
       "mean   2.996418e-18 -9.581568e-18  3.024243e-18 -3.774557e-18 -9.678351e-20   \n",
       "std    1.000017e+00  1.000017e+00  1.000017e+00  1.000017e+00  1.000017e+00   \n",
       "min   -1.637204e+01 -2.849580e+01 -2.878613e+01 -1.182981e+01 -1.944962e+01   \n",
       "25%   -5.678302e-01 -3.554381e-01 -1.555117e-01 -5.673308e-01 -4.010154e-01   \n",
       "50%   -2.001620e-01  5.991243e-02  1.201993e-02 -3.224254e-02 -4.490062e-02   \n",
       "75%    2.991023e-01  4.196195e-01  2.371456e-01  5.504490e-01  4.006397e-01   \n",
       "max    1.682497e+01  2.524627e+01  1.466017e+01  7.170510e+00  1.219665e+01   \n",
       "\n",
       "       ...           V19           V20           V21           V22  \\\n",
       "count  ...  2.867800e+04  2.867800e+04  2.867800e+04  2.867800e+04   \n",
       "mean   ...  3.994449e-17 -1.666031e-17 -1.367309e-18 -1.758435e-17   \n",
       "std    ...  1.000017e+00  1.000017e+00  1.000017e+00  1.000017e+00   \n",
       "min    ... -5.591230e+00 -2.969587e+01 -2.533713e+01 -1.201742e+01   \n",
       "25%    ... -5.635158e-01 -2.947559e-01 -2.783608e-01 -7.283577e-01   \n",
       "50%    ... -6.129726e-03 -9.083206e-02 -4.611644e-02  1.076176e-02   \n",
       "75%    ...  5.566773e-01  1.784910e-01  2.054238e-01  7.127044e-01   \n",
       "max    ...  6.310274e+00  3.642229e+01  3.209935e+01  1.130917e+01   \n",
       "\n",
       "                V23           V24           V25           V26           V27  \\\n",
       "count  2.867800e+04  2.867800e+04  2.867800e+04  2.867800e+04  2.867800e+04   \n",
       "mean   1.841790e-17  9.149913e-18  3.071957e-17  1.873729e-18 -8.754069e-18   \n",
       "std    1.000017e+00  1.000017e+00  1.000017e+00  1.000017e+00  1.000017e+00   \n",
       "min   -6.175535e+01 -4.503490e+00 -1.295591e+01 -4.631360e+00 -1.868655e+01   \n",
       "25%   -2.624144e-01 -5.886414e-01 -6.113030e-01 -6.749650e-01 -1.800852e-01   \n",
       "50%   -1.077972e-02  6.779550e-02  4.200870e-02 -1.146949e-01  2.773428e-03   \n",
       "75%    2.554264e-01  7.260327e-01  6.848133e-01  4.990833e-01  2.283979e-01   \n",
       "max    1.624181e+01  6.545184e+00  4.850554e+00  6.455620e+00  2.804256e+01   \n",
       "\n",
       "                V28  \n",
       "count  2.867800e+04  \n",
       "mean  -6.354805e-18  \n",
       "std    1.000017e+00  \n",
       "min   -3.241807e+01  \n",
       "25%   -1.810515e-01  \n",
       "50%    3.215157e-02  \n",
       "75%    2.607619e-01  \n",
       "max    5.030682e+01  \n",
       "\n",
       "[8 rows x 28 columns]"
      ]
     },
     "execution_count": 9,
     "metadata": {},
     "output_type": "execute_result"
    }
   ],
   "source": [
    "X.describe()"
   ]
  },
  {
   "cell_type": "markdown",
   "metadata": {},
   "source": [
    "각 변수들의 통계량(평균, 표준편차)을 봤을 때 표준화가 잘 된것을 확인할 수 있다."
   ]
  },
  {
   "cell_type": "markdown",
   "metadata": {},
   "source": [
    "## modeling"
   ]
  },
  {
   "cell_type": "code",
   "execution_count": 10,
   "metadata": {},
   "outputs": [],
   "source": [
    "X_train, X_test, y_train, y_test = train_test_split(X, y, random_state = 0, stratify = y)\n",
    "#target에서 1의 비율을 맞춰주기 위해 stratify = y설정해줌"
   ]
  },
  {
   "cell_type": "code",
   "execution_count": 11,
   "metadata": {
    "scrolled": true
   },
   "outputs": [
    {
     "data": {
      "text/plain": [
       "((21508, 28), (7170, 28), (21508,), (7170,))"
      ]
     },
     "execution_count": 11,
     "metadata": {},
     "output_type": "execute_result"
    }
   ],
   "source": [
    "X_train.shape, X_test.shape, y_train.shape, y_test.shape"
   ]
  },
  {
   "cell_type": "code",
   "execution_count": 12,
   "metadata": {},
   "outputs": [
    {
     "data": {
      "text/plain": [
       "LogisticRegression(C=1.0, class_weight=None, dual=False, fit_intercept=True,\n",
       "                   intercept_scaling=1, l1_ratio=None, max_iter=100,\n",
       "                   multi_class='auto', n_jobs=None, penalty='l2',\n",
       "                   random_state=None, solver='lbfgs', tol=0.0001, verbose=0,\n",
       "                   warm_start=False)"
      ]
     },
     "execution_count": 12,
     "metadata": {},
     "output_type": "execute_result"
    }
   ],
   "source": [
    "lr = LogisticRegression()\n",
    "lr.fit(X_train, y_train)"
   ]
  },
  {
   "cell_type": "code",
   "execution_count": 13,
   "metadata": {},
   "outputs": [
    {
     "data": {
      "text/plain": [
       "0.9980937325646271"
      ]
     },
     "execution_count": 13,
     "metadata": {},
     "output_type": "execute_result"
    }
   ],
   "source": [
    "#훈련집합 accuracy score\n",
    "lr.score(X_train, y_train)"
   ]
  },
  {
   "cell_type": "code",
   "execution_count": 14,
   "metadata": {},
   "outputs": [
    {
     "data": {
      "text/plain": [
       "array([0, 0, 0, ..., 0, 0, 0], dtype=int64)"
      ]
     },
     "execution_count": 14,
     "metadata": {},
     "output_type": "execute_result"
    }
   ],
   "source": [
    "y_pred = lr.predict(X_test)\n",
    "y_pred"
   ]
  },
  {
   "cell_type": "code",
   "execution_count": 15,
   "metadata": {},
   "outputs": [
    {
     "data": {
      "text/plain": [
       "array([1.15211771e-03, 2.45377808e-04, 7.83575753e-05, ...,\n",
       "       2.85513039e-04, 4.62521475e-05, 1.11608112e-04])"
      ]
     },
     "execution_count": 15,
     "metadata": {},
     "output_type": "execute_result"
    }
   ],
   "source": [
    "y_proba = lr.predict_proba(X_test)[:, 1]\n",
    "y_proba"
   ]
  },
  {
   "cell_type": "code",
   "execution_count": 16,
   "metadata": {},
   "outputs": [
    {
     "data": {
      "text/html": [
       "<div>\n",
       "<style scoped>\n",
       "    .dataframe tbody tr th:only-of-type {\n",
       "        vertical-align: middle;\n",
       "    }\n",
       "\n",
       "    .dataframe tbody tr th {\n",
       "        vertical-align: top;\n",
       "    }\n",
       "\n",
       "    .dataframe thead th {\n",
       "        text-align: right;\n",
       "    }\n",
       "</style>\n",
       "<table border=\"1\" class=\"dataframe\">\n",
       "  <thead>\n",
       "    <tr style=\"text-align: right;\">\n",
       "      <th></th>\n",
       "      <th>y_test</th>\n",
       "      <th>y_pred</th>\n",
       "      <th>proba</th>\n",
       "    </tr>\n",
       "  </thead>\n",
       "  <tbody>\n",
       "    <tr>\n",
       "      <th>14581</th>\n",
       "      <td>0</td>\n",
       "      <td>0</td>\n",
       "      <td>0.001152</td>\n",
       "    </tr>\n",
       "    <tr>\n",
       "      <th>6050</th>\n",
       "      <td>0</td>\n",
       "      <td>0</td>\n",
       "      <td>0.000245</td>\n",
       "    </tr>\n",
       "    <tr>\n",
       "      <th>7191</th>\n",
       "      <td>0</td>\n",
       "      <td>0</td>\n",
       "      <td>0.000078</td>\n",
       "    </tr>\n",
       "    <tr>\n",
       "      <th>21060</th>\n",
       "      <td>0</td>\n",
       "      <td>0</td>\n",
       "      <td>0.000860</td>\n",
       "    </tr>\n",
       "    <tr>\n",
       "      <th>1225</th>\n",
       "      <td>0</td>\n",
       "      <td>0</td>\n",
       "      <td>0.000688</td>\n",
       "    </tr>\n",
       "    <tr>\n",
       "      <th>...</th>\n",
       "      <td>...</td>\n",
       "      <td>...</td>\n",
       "      <td>...</td>\n",
       "    </tr>\n",
       "    <tr>\n",
       "      <th>18599</th>\n",
       "      <td>0</td>\n",
       "      <td>0</td>\n",
       "      <td>0.000159</td>\n",
       "    </tr>\n",
       "    <tr>\n",
       "      <th>3616</th>\n",
       "      <td>0</td>\n",
       "      <td>0</td>\n",
       "      <td>0.001101</td>\n",
       "    </tr>\n",
       "    <tr>\n",
       "      <th>26849</th>\n",
       "      <td>0</td>\n",
       "      <td>0</td>\n",
       "      <td>0.000286</td>\n",
       "    </tr>\n",
       "    <tr>\n",
       "      <th>19261</th>\n",
       "      <td>0</td>\n",
       "      <td>0</td>\n",
       "      <td>0.000046</td>\n",
       "    </tr>\n",
       "    <tr>\n",
       "      <th>13474</th>\n",
       "      <td>0</td>\n",
       "      <td>0</td>\n",
       "      <td>0.000112</td>\n",
       "    </tr>\n",
       "  </tbody>\n",
       "</table>\n",
       "<p>7170 rows × 3 columns</p>\n",
       "</div>"
      ],
      "text/plain": [
       "       y_test  y_pred     proba\n",
       "14581       0       0  0.001152\n",
       "6050        0       0  0.000245\n",
       "7191        0       0  0.000078\n",
       "21060       0       0  0.000860\n",
       "1225        0       0  0.000688\n",
       "...       ...     ...       ...\n",
       "18599       0       0  0.000159\n",
       "3616        0       0  0.001101\n",
       "26849       0       0  0.000286\n",
       "19261       0       0  0.000046\n",
       "13474       0       0  0.000112\n",
       "\n",
       "[7170 rows x 3 columns]"
      ]
     },
     "execution_count": 16,
     "metadata": {},
     "output_type": "execute_result"
    }
   ],
   "source": [
    "ce_df = {'y_test' : y_test, # 실제\n",
    "         'y_pred' : y_pred, # 예측\n",
    "         'proba' : y_proba  # 1로 분류할 확률 \n",
    "}\n",
    "\n",
    "ce_df = pd.DataFrame(ce_df)\n",
    "ce_df"
   ]
  },
  {
   "cell_type": "markdown",
   "metadata": {},
   "source": [
    "## Evaluation"
   ]
  },
  {
   "cell_type": "markdown",
   "metadata": {},
   "source": [
    "#### 다양한 평가지표"
   ]
  },
  {
   "cell_type": "code",
   "execution_count": 17,
   "metadata": {},
   "outputs": [
    {
     "name": "stdout",
     "output_type": "stream",
     "text": [
      "정확도 : 0.997629009762901 baseline : 0.9913528591352859\n"
     ]
    }
   ],
   "source": [
    "#정확도\n",
    "print(\"정확도 :\", accuracy_score(y_test, y_pred), \"baseline :\", 1-y_test.mean())"
   ]
  },
  {
   "cell_type": "markdown",
   "metadata": {},
   "source": [
    "1-y_test.mean()의 값 즉 0의 비율이 0.99135인것과 1의 비율이 극히 적은것을 감안하였을 때 적어도 baseline(0으로 밀기)보다는 좋은 성능인것같다."
   ]
  },
  {
   "cell_type": "code",
   "execution_count": 20,
   "metadata": {},
   "outputs": [
    {
     "name": "stdout",
     "output_type": "stream",
     "text": [
      "cee : 0.013582966993890116 baseline : 0.049784984487859105\n"
     ]
    }
   ],
   "source": [
    "#cross_entropy\n",
    "cee = -np.sum((y_test * np.log(y_proba)) + (1 - y_test) * np.log(1 - y_proba)) / len(y_test)\n",
    "b_p = np.array([1e-2 for _ in range(7170)])\n",
    "baseline  = -np.sum((y_test * np.log(b_p)) + (1 - y_test) * np.log(1 - b_p)) / len(y_test)\n",
    "print(\"cee :\", cee, \"baseline :\", baseline)"
   ]
  },
  {
   "cell_type": "markdown",
   "metadata": {},
   "source": [
    "y_test의 값 중 대부분이 0이라서 확률값들을 전부 0.01로 예측했을 때의 cee를 baseline으로 설정"
   ]
  },
  {
   "cell_type": "code",
   "execution_count": 21,
   "metadata": {},
   "outputs": [
    {
     "name": "stdout",
     "output_type": "stream",
     "text": [
      "recall : 0.8064516129032258\n",
      "precision : 0.9090909090909091\n",
      "f1 : 0.8547008547008547\n",
      "roc_auc : 0.9028740900756984\n"
     ]
    }
   ],
   "source": [
    "print('recall :', recall_score(y_test, y_pred))\n",
    "print('precision :', precision_score(y_test, y_pred))\n",
    "print('f1 :', f1_score(y_test, y_pred))\n",
    "print(\"roc_auc :\", roc_auc_score(y_test, y_pred))"
   ]
  },
  {
   "cell_type": "code",
   "execution_count": 22,
   "metadata": {},
   "outputs": [
    {
     "name": "stdout",
     "output_type": "stream",
     "text": [
      "              precision    recall  f1-score   support\n",
      "\n",
      "           0       1.00      1.00      1.00      7108\n",
      "           1       0.91      0.81      0.85        62\n",
      "\n",
      "    accuracy                           1.00      7170\n",
      "   macro avg       0.95      0.90      0.93      7170\n",
      "weighted avg       1.00      1.00      1.00      7170\n",
      "\n"
     ]
    }
   ],
   "source": [
    "#classifiction report를 사용하면 precision, recall, f1-score등을 편하게 구할 수 있음\n",
    "print(classification_report(y_test, y_pred))"
   ]
  },
  {
   "cell_type": "markdown",
   "metadata": {},
   "source": [
    "* recall(sensitivity)은 TP / (TP + FN)이고 실제로 1인 것중 예측이 1로 된 비율이다.\n",
    "* precision은  TP / (TP + FP)이고 1로 예측된 것들 중 실제로 1인 비율이다.\n",
    "* recall과 precision은 trade-off이므로 이 둘을 동시에 고려하기 위한 것이 f1score이고 이는 recall과 precision의 조화평균이다\n",
    "* 현재 분류기는 recall값 즉 실제로 1인 것 중 예측이 1로 된 비율이 precision보다 낮다. "
   ]
  },
  {
   "cell_type": "markdown",
   "metadata": {},
   "source": [
    "#### confusion matrix의 TN, FP, FN, TP값을 가지고 위의 평가지표들을 계산하고 비교해본다"
   ]
  },
  {
   "cell_type": "code",
   "execution_count": 23,
   "metadata": {},
   "outputs": [
    {
     "name": "stdout",
     "output_type": "stream",
     "text": [
      "[[7103    5]\n",
      " [  12   50]]\n"
     ]
    }
   ],
   "source": [
    "TN, FP, FN, TP = confusion_matrix(y_test, y_pred).ravel()\n",
    "print(confusion_matrix(y_test, y_pred))"
   ]
  },
  {
   "cell_type": "code",
   "execution_count": 24,
   "metadata": {},
   "outputs": [],
   "source": [
    "accuracy = (TN + TP) / (TN + FP + FN + TP)\n",
    "recall = TP / (TP + FN)\n",
    "precision = TP / (TP + FP)\n",
    "specificity = TN / (TN + FP)\n",
    "f1 = 2 / (1 / recall + 1 / precision)"
   ]
  },
  {
   "cell_type": "code",
   "execution_count": 25,
   "metadata": {},
   "outputs": [
    {
     "name": "stdout",
     "output_type": "stream",
     "text": [
      "accuracy : 0.997629009762901\n",
      "recall : 0.8064516129032258\n",
      "precision : 0.9090909090909091\n",
      "specificity : 0.9992965672481711\n",
      "f1:  0.8547008547008548\n"
     ]
    }
   ],
   "source": [
    "print(\"accuracy :\", accuracy)\n",
    "print(\"recall :\", recall)\n",
    "print(\"precision :\", precision)\n",
    "print(\"specificity :\", specificity)\n",
    "print(\"f1: \", f1)"
   ]
  },
  {
   "cell_type": "markdown",
   "metadata": {},
   "source": [
    "sklearn.metrics의 함수를 사용한 결과와 같음을 확인할 수 있다"
   ]
  },
  {
   "cell_type": "markdown",
   "metadata": {},
   "source": [
    "#### ROC Curve"
   ]
  },
  {
   "cell_type": "markdown",
   "metadata": {},
   "source": [
    "* cutoff value(threshold)를 달리하며 가로축을 1 - specificity(fpr), 세로축을 recall(tpr)로 하여 시각화 한 그래프이다.\n",
    "* 곡선이 y = x에 가까울수록 좋지 못한 성능이고, 곡선이 위로 향할수록 좋은 모델이다"
   ]
  },
  {
   "cell_type": "code",
   "execution_count": 26,
   "metadata": {},
   "outputs": [
    {
     "data": {
      "image/png": "[encoded data removed]",
      "text/plain": [
       "<Figure size 432x288 with 1 Axes>"
      ]
     },
     "metadata": {
      "needs_background": "light"
     },
     "output_type": "display_data"
    }
   ],
   "source": [
    "fpr, tpr, threshold = roc_curve(y_test, y_proba)\n",
    "plt.plot(fpr, tpr, 'o-', label=\"ROC Curve\")\n",
    "plt.plot([0,1],[0,1], 'k--')\n",
    "plt.plot([1 - specificity], [recall], 'ro')\n",
    "plt.xlabel(\"1 - specificity\")\n",
    "plt.ylabel(\"recall\")\n",
    "plt.title(\"ROC curve(%.3f)\"%roc_auc_score(y_test, y_pred))\n",
    "plt.show()"
   ]
  },
  {
   "cell_type": "markdown",
   "metadata": {},
   "source": [
    "모델의 roc_auc는 0.903으로 일반적으로 0.9가 넘으면 좋은 모델이라고 할 수 있다."
   ]
  },
  {
   "cell_type": "markdown",
   "metadata": {},
   "source": [
    "#### PR Plot(precision recall plot)"
   ]
  },
  {
   "cell_type": "markdown",
   "metadata": {},
   "source": [
    "* precision recall plot은 roc와 유사하지만 target 데이터의 분포가 심하게 불균형할 때 사용한다. 그래프 X축을 Recall값, Y축을 Precision값을 사용한다.\n",
    "* 현재 타겟 중 1의 비율이 0의 비율보다 압도적으로 적으므로 PR그래프가 분석에 더 유리하다고 할 수 있다.\n",
    "* roc curve같은 경우 y=x를 기준으로 모델의 성능을 결정했지만, pr plot의 경우 baseline을 사용한다. baseline = positive / len(y_test)이다."
   ]
  },
  {
   "cell_type": "code",
   "execution_count": 27,
   "metadata": {},
   "outputs": [
    {
     "data": {
      "text/plain": [
       "<matplotlib.lines.Line2D at 0x2f507c51148>"
      ]
     },
     "execution_count": 27,
     "metadata": {},
     "output_type": "execute_result"
    },
    {
     "data": {
      "image/png": "[encoded data removed]",
      "text/plain": [
       "<Figure size 432x288 with 1 Axes>"
      ]
     },
     "metadata": {
      "needs_background": "light"
     },
     "output_type": "display_data"
    }
   ],
   "source": [
    "baseline = len(y_test[y_test == 1]) / len(y_test)\n",
    "y_score = lr.decision_function(X_test)\n",
    "average_precision = average_precision_score(y_test, y_score)\n",
    "disp = plot_precision_recall_curve(lr, X_test, y_test)\n",
    "disp.ax_.set_title('2-class Precision-Recall curve: '\n",
    "                   'AP={0:0.2f}'.format(average_precision))\n",
    "plt.plot([recall], [precision], 'ro')\n",
    "plt.axhline(baseline)\n",
    "\n",
    "#http://scikit-learn.org/stable/auto_examples/model_selection/plot_precision_recall.html"
   ]
  },
  {
   "cell_type": "markdown",
   "metadata": {},
   "source": [
    "#### f1_score plot"
   ]
  },
  {
   "cell_type": "markdown",
   "metadata": {},
   "source": [
    "* 사기 탐지의 측면에서 사기를 놓치는 것이 다른 경우를 사기라고 판단하는 것보다 위험하지만 사용자 불편 측면에서 다른 경우를 사기거래라고 판단하는 것도 위험함 따라서 precision과 recall지표를 동시에 고려하는 f1_score를 이용하여 최적의 threshold를 탐색함"
   ]
  },
  {
   "cell_type": "code",
   "execution_count": 28,
   "metadata": {},
   "outputs": [
    {
     "name": "stdout",
     "output_type": "stream",
     "text": [
      "최적의 threshold : 0.7677767776777678 f1_score : 0.8771929824561403\n"
     ]
    }
   ],
   "source": [
    "threshold = np.linspace(0, 1, 10000)\n",
    "optimal_threshold = 0\n",
    "max_f1_score = 0\n",
    "f1_scores = []\n",
    "for i in range(len(threshold)):\n",
    "    y_pred_ = (y_proba > threshold[i])\n",
    "    f1_score_ = f1_score(y_test, y_pred_)\n",
    "    f1_scores.append(f1_score_)\n",
    "    if f1_score_ >= max_f1_score:\n",
    "        max_f1_score = f1_score_\n",
    "        optimal_threshold = threshold[i]\n",
    "        \n",
    "print(\"최적의 threshold :\", optimal_threshold, \"f1_score :\", max_f1_score)"
   ]
  },
  {
   "cell_type": "code",
   "execution_count": 29,
   "metadata": {},
   "outputs": [
    {
     "data": {
      "text/plain": [
       "Text(0.5, 1.0, 'f1_score by threshold')"
      ]
     },
     "execution_count": 29,
     "metadata": {},
     "output_type": "execute_result"
    },
    {
     "data": {
      "image/png": "[encoded data removed]",
      "text/plain": [
       "<Figure size 432x288 with 1 Axes>"
      ]
     },
     "metadata": {
      "needs_background": "light"
     },
     "output_type": "display_data"
    }
   ],
   "source": [
    "plt.plot(threshold, f1_scores)\n",
    "plt.axvline(optimal_threshold, c = 'r')\n",
    "plt.title(\"f1_score by threshold\")"
   ]
  },
  {
   "cell_type": "markdown",
   "metadata": {},
   "source": [
    "* 탐색한 threshold를 적용하여 accuracy, recall, precision, specificity를 확인하고 roc curve와 pr plot에서의 지점을 확인"
   ]
  },
  {
   "cell_type": "code",
   "execution_count": 30,
   "metadata": {},
   "outputs": [],
   "source": [
    "y_pred = y_proba > optimal_threshold"
   ]
  },
  {
   "cell_type": "code",
   "execution_count": 31,
   "metadata": {},
   "outputs": [
    {
     "name": "stdout",
     "output_type": "stream",
     "text": [
      "[[7106    2]\n",
      " [  12   50]]\n"
     ]
    }
   ],
   "source": [
    "print(confusion_matrix(y_test, y_pred))"
   ]
  },
  {
   "cell_type": "code",
   "execution_count": 32,
   "metadata": {},
   "outputs": [],
   "source": [
    "TN, FP, FN, TP = confusion_matrix(y_test, y_pred).ravel()\n",
    "accuracy = (TN + TP) / (TN + FP + FN + TP)\n",
    "recall = TP / (TP + FN)\n",
    "precision = TP / (TP + FP)\n",
    "specificity = TN / (TN + FP)\n",
    "f1 = 2 / (1 / recall + 1 / precision)"
   ]
  },
  {
   "cell_type": "code",
   "execution_count": 33,
   "metadata": {},
   "outputs": [
    {
     "name": "stdout",
     "output_type": "stream",
     "text": [
      "accuracy : 0.998047419804742\n",
      "recall : 0.8064516129032258\n",
      "precision : 0.9615384615384616\n",
      "specificity : 0.9997186268992684\n"
     ]
    }
   ],
   "source": [
    "print(\"accuracy :\", accuracy)\n",
    "print(\"recall :\", recall)\n",
    "print(\"precision :\", precision)\n",
    "print(\"specificity :\", specificity)"
   ]
  },
  {
   "cell_type": "markdown",
   "metadata": {},
   "source": [
    "specificity가 조금 줄었지만 accuracy, f1_score의 값이 조금 상승, precision의 값은 대폭 상승하였다"
   ]
  },
  {
   "cell_type": "code",
   "execution_count": 34,
   "metadata": {},
   "outputs": [
    {
     "data": {
      "image/png": "[encoded data removed]",
      "text/plain": [
       "<Figure size 432x288 with 1 Axes>"
      ]
     },
     "metadata": {
      "needs_background": "light"
     },
     "output_type": "display_data"
    }
   ],
   "source": [
    "fpr, tpr, threshold = roc_curve(y_test, y_proba)\n",
    "plt.plot(fpr, tpr, 'o-', label=\"ROC Curve\")\n",
    "plt.plot([0,1],[0,1], 'k--')\n",
    "plt.plot([1 - specificity], [recall], 'ro')\n",
    "plt.xlabel(\"1 - specificity\")\n",
    "plt.ylabel(\"recall\")\n",
    "plt.title(\"ROC curve(%.3f)\"%roc_auc_score(y_test, y_pred))\n",
    "plt.show()"
   ]
  },
  {
   "cell_type": "code",
   "execution_count": 35,
   "metadata": {},
   "outputs": [
    {
     "data": {
      "text/plain": [
       "<matplotlib.lines.Line2D at 0x2f507e08cc8>"
      ]
     },
     "execution_count": 35,
     "metadata": {},
     "output_type": "execute_result"
    },
    {
     "data": {
      "image/png": "[encoded data removed]",
      "text/plain": [
       "<Figure size 432x288 with 1 Axes>"
      ]
     },
     "metadata": {
      "needs_background": "light"
     },
     "output_type": "display_data"
    }
   ],
   "source": [
    "baseline = len(y_test[y_test == 1]) / len(y_test)\n",
    "y_score = lr.decision_function(X_test)\n",
    "average_precision = average_precision_score(y_test, y_score)\n",
    "disp = plot_precision_recall_curve(lr, X_test, y_test)\n",
    "disp.ax_.set_title('2-class Precision-Recall curve: '\n",
    "                   'AP={0:0.2f}'.format(average_precision))\n",
    "plt.plot([recall], [precision], 'ro')\n",
    "plt.axhline(baseline)"
   ]
  },
  {
   "cell_type": "markdown",
   "metadata": {},
   "source": [
    "그래프 결과 roc curve에서의 변화는 거의 없지만 precision이 대폭 상승하으로 인해 pr plot에서 그래프의 성능이 크게 향상하였음을 알수있다. "
   ]
  },
  {
   "cell_type": "markdown",
   "metadata": {},
   "source": [
    "## 정리"
   ]
  },
  {
   "cell_type": "markdown",
   "metadata": {},
   "source": [
    "* 사기 탐지에서 어쨌건 가장 중요한 부분은 Positive이다. 이에 recall과 precision 둘 중 하나를 선택하기 힘들어 recall과 precision의 조화평균인 f1_score를 기준으로 최적의 cutoff value를 찾고자 했다.\n",
    "* cutoff value를 f1_score를 기준으로 바꿈에 따라 TP와 FN의 변화는 없었으나 FP를 줄일수 있었다."
   ]
  }
 ],
 "metadata": {
  "kernelspec": {
   "display_name": "Python 3",
   "language": "python",
   "name": "python3"
  },
  "language_info": {
   "codemirror_mode": {
    "name": "ipython",
    "version": 3
   },
   "file_extension": ".py",
   "mimetype": "text/x-python",
   "name": "python",
   "nbconvert_exporter": "python",
   "pygments_lexer": "ipython3",
   "version": "3.7.6"
  }
 },
 "nbformat": 4,
 "nbformat_minor": 4
}
